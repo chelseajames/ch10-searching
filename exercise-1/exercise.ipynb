{
 "cells": [
  {
   "cell_type": "markdown",
   "metadata": {},
   "source": [
    "# Exercise 1\n",
    "Add the specified code for each code cell, running the cells _in order_."
   ]
  },
  {
   "cell_type": "markdown",
   "metadata": {},
   "source": [
    "Create a variable **`deck`** that represents a deck of [playing cards](https://en.wikipedia.org/wiki/Playing_card). This variable should be a _list_ of 52 elements, each of which is a dictionary with the following keys:\n",
    "- `suit`, with a string value that is either `'hearts'`, `'diamonds'`, `'clubs'`, or `'spades'`.\n",
    "- `rank`, with an interger value ranging from 2 to 14 inclusive (11-14 represent a Jack, Queen, King, or Ace respectively).\n",
    "\n",
    "_Tip:_ use a pair of nested loops to add each combination of suit and rank to the `deck` list!"
   ]
  },
  {
   "cell_type": "code",
   "execution_count": 2,
   "metadata": {},
   "outputs": [
    {
     "name": "stdout",
     "output_type": "stream",
     "text": [
      "[{'suit': 'hearts', 'rank': 1}, {'suit': 'hearts', 'rank': 2}, {'suit': 'hearts', 'rank': 3}, {'suit': 'hearts', 'rank': 4}, {'suit': 'hearts', 'rank': 5}, {'suit': 'hearts', 'rank': 6}, {'suit': 'hearts', 'rank': 7}, {'suit': 'hearts', 'rank': 8}, {'suit': 'hearts', 'rank': 9}, {'suit': 'hearts', 'rank': 10}, {'suit': 'hearts', 'rank': 11}, {'suit': 'hearts', 'rank': 12}, {'suit': 'hearts', 'rank': 13}, {'suit': 'hearts', 'rank': 14}, {'suit': 'diamonds', 'rank': 1}, {'suit': 'diamonds', 'rank': 2}, {'suit': 'diamonds', 'rank': 3}, {'suit': 'diamonds', 'rank': 4}, {'suit': 'diamonds', 'rank': 5}, {'suit': 'diamonds', 'rank': 6}, {'suit': 'diamonds', 'rank': 7}, {'suit': 'diamonds', 'rank': 8}, {'suit': 'diamonds', 'rank': 9}, {'suit': 'diamonds', 'rank': 10}, {'suit': 'diamonds', 'rank': 11}, {'suit': 'diamonds', 'rank': 12}, {'suit': 'diamonds', 'rank': 13}, {'suit': 'diamonds', 'rank': 14}, {'suit': 'clubs', 'rank': 1}, {'suit': 'clubs', 'rank': 2}, {'suit': 'clubs', 'rank': 3}, {'suit': 'clubs', 'rank': 4}, {'suit': 'clubs', 'rank': 5}, {'suit': 'clubs', 'rank': 6}, {'suit': 'clubs', 'rank': 7}, {'suit': 'clubs', 'rank': 8}, {'suit': 'clubs', 'rank': 9}, {'suit': 'clubs', 'rank': 10}, {'suit': 'clubs', 'rank': 11}, {'suit': 'clubs', 'rank': 12}, {'suit': 'clubs', 'rank': 13}, {'suit': 'clubs', 'rank': 14}, {'suit': 'spades', 'rank': 1}, {'suit': 'spades', 'rank': 2}, {'suit': 'spades', 'rank': 3}, {'suit': 'spades', 'rank': 4}, {'suit': 'spades', 'rank': 5}, {'suit': 'spades', 'rank': 6}, {'suit': 'spades', 'rank': 7}, {'suit': 'spades', 'rank': 8}, {'suit': 'spades', 'rank': 9}, {'suit': 'spades', 'rank': 10}, {'suit': 'spades', 'rank': 11}, {'suit': 'spades', 'rank': 12}, {'suit': 'spades', 'rank': 13}, {'suit': 'spades', 'rank': 14}]\n"
     ]
    }
   ],
   "source": [
    "cards = []\n",
    "suits = ['hearts', 'diamonds', 'clubs', 'spades']\n",
    "\n",
    "for suit in suits:\n",
    "    for rank in range(1, 15):\n",
    "        cards.append({'suit':suit, 'rank':rank})\n",
    "\n",
    "print(cards)"
   ]
  },
  {
   "cell_type": "markdown",
   "metadata": {},
   "source": [
    "Create a list **hand** that represents a hand of [Poker](https://en.wikipedia.org/wiki/Poker) (5-card draw). Add 5 cards from the `deck` to this list.\n",
    "- You can add 5 specific cards for testing (check their indices!), or use the `random.shuffle()` function to shuffle the deck and then _slice_ 5 cards from the top.\n",
    "\n",
    "Print out the `hand` so you know what you are dealing with!"
   ]
  },
  {
   "cell_type": "code",
   "execution_count": 6,
   "metadata": {},
   "outputs": [
    {
     "name": "stdout",
     "output_type": "stream",
     "text": [
      "[{'suit': 'diamonds', 'rank': 2}, {'suit': 'clubs', 'rank': 2}, {'suit': 'diamonds', 'rank': 3}, {'suit': 'diamonds', 'rank': 14}, {'suit': 'spades', 'rank': 10}]\n"
     ]
    }
   ],
   "source": [
    "import random\n",
    "random.shuffle(cards)\n",
    "s = slice(5)\n",
    "hand = cards[s]\n",
    "print(hand)"
   ]
  },
  {
   "cell_type": "markdown",
   "metadata": {},
   "source": [
    "Define a function **`contains_queen_of_hearts()`** that takes in a list of cards (e.g., a hand) and returns whether or not the Queen of Hearts is in that list. _For practice, don't use the `in` operator to check for containment_."
   ]
  },
  {
   "cell_type": "code",
   "execution_count": 8,
   "metadata": {},
   "outputs": [
    {
     "name": "stdout",
     "output_type": "stream",
     "text": [
      "True\n"
     ]
    }
   ],
   "source": [
    "def contains_queen_of_hearts(card_list):\n",
    "    \"\"\"Checks whether queen of hearts is in list.\"\"\"\n",
    "    for card in card_list:\n",
    "        if card['suit'] == 'hearts' and card['rank'] == 12:\n",
    "            return True\n",
    "    return False\n",
    "    \n",
    "print(contains_queen_of_hearts(cards))"
   ]
  },
  {
   "cell_type": "markdown",
   "metadata": {},
   "source": [
    "Define a function **`get_high_card()`** that takes in a list of cards and returns the card (dictionary) of the highest value. The \"high card\" is the one with the highest rank. Cards of different suits but the same rank are considered to have the same value and either may be returned.\n",
    "- Hint: use a \"king-of-the-hill\" search!"
   ]
  },
  {
   "cell_type": "code",
   "execution_count": 12,
   "metadata": {},
   "outputs": [
    {
     "name": "stdout",
     "output_type": "stream",
     "text": [
      "{'suit': 'diamonds', 'rank': 14}\n"
     ]
    }
   ],
   "source": [
    "def get_high_card(card_list):\n",
    "    \"\"\"Determines and returns highest card in list\"\"\"\n",
    "    high_card = card_list[0]\n",
    "    for card in card_list:\n",
    "        if card['rank'] > high_card['rank']:\n",
    "            high_card = card\n",
    "    return high_card\n",
    "\n",
    "print(get_high_card(cards))"
   ]
  },
  {
   "cell_type": "markdown",
   "metadata": {},
   "source": [
    "Define a function **`is_flush()`** that takes in a list of cards and returns whether or not the list represents a _flush_&mdash;that is, all of the cards have the same _suit_."
   ]
  },
  {
   "cell_type": "code",
   "execution_count": 15,
   "metadata": {},
   "outputs": [
    {
     "name": "stdout",
     "output_type": "stream",
     "text": [
      "True\n"
     ]
    }
   ],
   "source": [
    "def is_flush(card_list):\n",
    "    \"\"\"Checks whether list represents a flush.\"\"\"\n",
    "    current = card_list[0]\n",
    "    for card in card_list:\n",
    "        if card['suit'] == current['suit']:\n",
    "            message = True\n",
    "            current = card\n",
    "        else:\n",
    "            message = False\n",
    "    return message\n",
    "\n",
    "\n",
    "flush = [{'suit':'hearts', 'rank': 1}, {'suit':'hearts', 'rank': 2}, {'suit':'hearts', 'rank': 7}, {'suit':'hearts', 'rank': 13}, {'suit':'hearts', 'rank': 5}]\n",
    "print(is_flush(flush))"
   ]
  },
  {
   "cell_type": "markdown",
   "metadata": {},
   "source": [
    "_Challenge_: Define a functon **`has_pair()`** that takes in a list of cards and returns whether or not there is at least one _pair_ (two cards with the same _rank_) in the list.\n",
    "\n",
    "_Bonus challenge:_ Return the rank of the pair of cards with the highest rank (e.g., if there is more than one pair!) "
   ]
  },
  {
   "cell_type": "code",
   "execution_count": null,
   "metadata": {},
   "outputs": [],
   "source": []
  }
 ],
 "metadata": {
  "kernelspec": {
   "display_name": "Python 3",
   "language": "python",
   "name": "python3"
  },
  "language_info": {
   "codemirror_mode": {
    "name": "ipython",
    "version": 3
   },
   "file_extension": ".py",
   "mimetype": "text/x-python",
   "name": "python",
   "nbconvert_exporter": "python",
   "pygments_lexer": "ipython3",
   "version": "3.7.1"
  },
  "toc": {
   "colors": {
    "hover_highlight": "#DAA520",
    "running_highlight": "#FF0000",
    "selected_highlight": "#FFD700"
   },
   "moveMenuLeft": true,
   "nav_menu": {
    "height": "30px",
    "width": "252px"
   },
   "navigate_menu": true,
   "number_sections": true,
   "sideBar": true,
   "threshold": 4,
   "toc_cell": false,
   "toc_section_display": "block",
   "toc_window_display": false,
   "widenNotebook": false
  }
 },
 "nbformat": 4,
 "nbformat_minor": 2
}
